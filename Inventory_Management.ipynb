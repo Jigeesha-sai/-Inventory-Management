{
  "nbformat": 4,
  "nbformat_minor": 0,
  "metadata": {
    "colab": {
      "provenance": [],
      "authorship_tag": "ABX9TyOHTz5kQ1lff8eMV05eV2+W",
      "include_colab_link": true
    },
    "kernelspec": {
      "name": "python3",
      "display_name": "Python 3"
    },
    "language_info": {
      "name": "python"
    }
  },
  "cells": [
    {
      "cell_type": "markdown",
      "metadata": {
        "id": "view-in-github",
        "colab_type": "text"
      },
      "source": [
        "<a href=\"https://colab.research.google.com/github/Jigeesha-sai/Inventory-Management/blob/main/Inventory_Management.ipynb\" target=\"_parent\"><img src=\"https://colab.research.google.com/assets/colab-badge.svg\" alt=\"Open In Colab\"/></a>"
      ]
    },
    {
      "cell_type": "code",
      "execution_count": null,
      "metadata": {
        "id": "G9P_wz5uwknc"
      },
      "outputs": [],
      "source": [
        "# adding new products\n",
        "products= { 101 : {'name':'rice',\n",
        "                    'category':'basic',\n",
        "                    'quantity' : 100,\n",
        "                    'price' : 50},\n",
        "            102 : {'name':'dal',\n",
        "                    'category':'basic',\n",
        "                    'quantity' : 50,\n",
        "                    'price' : 30},\n",
        "            103 : {'name':'salt',\n",
        "                    'category':'basic',\n",
        "                    'quantity' : 50,\n",
        "                    'price' : 25},\n",
        "            104 : {'name':'chilli powder',\n",
        "                    'category':'basic',\n",
        "                    'quantity' : 50,\n",
        "                    'price' : 30},\n",
        "            105 : {'name':'turmeric',\n",
        "                    'category':'basic',\n",
        "                    'quantity' : 50,\n",
        "                    'price' : 250},\n",
        "            201 : {'name':'milk',\n",
        "                    'category':'diary',\n",
        "                    'quantity' : 40,\n",
        "                    'price' : 38,\n",
        "                    'expiry': '18-11-2023'},\n",
        "            202  : {'name':'paneer',\n",
        "                    'category':'diary',\n",
        "                    'quantity' : 20,\n",
        "                    'price' : 100,\n",
        "                    'expiry': '19-12-2023'},\n",
        "            203  : {'name':'curd',\n",
        "                    'category':'diary',\n",
        "                    'quantity' : 20,\n",
        "                    'price' : 50,\n",
        "                    'expiry': '19-11-2023'},\n",
        "            204 : {'name':'bread',\n",
        "                    'category':'diary',\n",
        "                    'quantity' : 20,\n",
        "                    'price' : 50,\n",
        "                    'expiry': '22-11-2023'},\n",
        "            301 : {'name':'pens',\n",
        "                    'category':'stationary',\n",
        "                    'quantity' : 200,\n",
        "                    'price' : 10,},\n",
        "            302 : {'name':'pencils',\n",
        "                    'category':'stationary',\n",
        "                    'quantity' : 200,\n",
        "                    'price' : 5,},\n",
        "             303 : {'name':'books',\n",
        "                    'category':'stationary',\n",
        "                    'quantity' : 200,\n",
        "                    'price' : 50,},\n",
        "             304 : {'name':'sketches',\n",
        "                    'category':'stationary',\n",
        "                    'quantity' : 200,\n",
        "                    'price' : 5,},\n",
        "             305 : {'name':'gum',\n",
        "                    'category':'stationary',\n",
        "                    'quantity' : 200,\n",
        "                    'price' : 20,},\n",
        "             306 : {'name':'staplebox',\n",
        "                    'category':'stationary',\n",
        "                    'quantity' : 200,\n",
        "                    'price' : 10,},\n",
        "             307 : {'name':'paperclips',\n",
        "                    'category':'stationary',\n",
        "                    'quantity' : 200,\n",
        "                    'price' : 5,}, }"
      ]
    },
    {
      "cell_type": "code",
      "source": [
        "#displaying inventory completely\n",
        "print('The items are :')\n",
        "for key, value in products.items():\n",
        "    print(f\"{key}: {value}\")"
      ],
      "metadata": {
        "colab": {
          "base_uri": "https://localhost:8080/"
        },
        "id": "dR8XWj09eSkX",
        "outputId": "1d9e7b64-f0ee-4498-9b94-d4a87adce294"
      },
      "execution_count": null,
      "outputs": [
        {
          "output_type": "stream",
          "name": "stdout",
          "text": [
            "The items are :\n",
            "101: {'name': 'rice', 'category': 'basic', 'quantity': 100, 'price': 50}\n",
            "102: {'name': 'dal', 'category': 'basic', 'quantity': 50, 'price': 30}\n",
            "103: {'name': 'salt', 'category': 'basic', 'quantity': 50, 'price': 25}\n",
            "104: {'name': 'chilli powder', 'category': 'basic', 'quantity': 50, 'price': 30}\n",
            "105: {'name': 'turmeric', 'category': 'basic', 'quantity': 50, 'price': 250}\n",
            "201: {'name': 'milk', 'category': 'diary', 'quantity': 40, 'price': 38, 'expiry': '18-11-2023'}\n",
            "202: {'name': 'paneer', 'category': 'diary', 'quantity': 20, 'price': 100, 'expiry': '19-12-2023'}\n",
            "203: {'name': 'curd', 'category': 'diary', 'quantity': 20, 'price': 50, 'expiry': '19-11-2023'}\n",
            "204: {'name': 'bread', 'category': 'diary', 'quantity': 20, 'price': 50, 'expiry': '22-11-2023'}\n",
            "301: {'name': 'pens', 'category': 'stationary', 'quantity': 200, 'price': 10}\n",
            "302: {'name': 'pencils', 'category': 'stationary', 'quantity': 200, 'price': 5}\n",
            "303: {'name': 'books', 'category': 'stationary', 'quantity': 200, 'price': 50}\n",
            "304: {'name': 'sketches', 'category': 'stationary', 'quantity': 200, 'price': 5}\n",
            "305: {'name': 'gum', 'category': 'stationary', 'quantity': 200, 'price': 20}\n",
            "306: {'name': 'staplebox', 'category': 'stationary', 'quantity': 200, 'price': 10}\n",
            "307: {'name': 'paperclips', 'category': 'stationary', 'quantity': 200, 'price': 5}\n"
          ]
        }
      ]
    }
  ]
}